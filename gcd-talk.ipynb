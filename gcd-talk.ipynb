{
 "cells": [
  {
   "cell_type": "markdown",
   "metadata": {},
   "source": [
    "# Constant-time extended GCD\n",
    "\n",
    "## Outline :\n",
    "\n",
    "1. SageMath System and GCD\n",
    "\n",
    "2. DivStep and constant-time GCD\n",
    "\n",
    "3. JumpDivStep and constant-time GCD\n"
   ]
  },
  {
   "cell_type": "markdown",
   "metadata": {},
   "source": [
    "## Section 1: SageMath System and GCD\n",
    "\n",
    "### SageMath: http://www.sagemath.org/\n",
    "\n"
   ]
  },
  {
   "cell_type": "code",
   "execution_count": 69,
   "metadata": {
    "collapsed": true
   },
   "outputs": [],
   "source": [
    "#The enviroments:\n",
    "\n",
    "p = 761; q61 = 765; q = 6*q61+1; w = 250\n",
    "Zx.<x> = ZZ[]; R.<xp> = Zx.quotient(x^p-x-1)\n",
    "Fq = GF(q); Fqx.<xq> = Fq[]; Rq.<xqp> = Fqx.quotient(x^p-x-1)\n",
    "F3 = GF(3); F3x.<x3> = F3[]; R3.<x3p> = F3x.quotient(x^p-x-1)"
   ]
  },
  {
   "cell_type": "code",
   "execution_count": 70,
   "metadata": {
    "collapsed": true
   },
   "outputs": [],
   "source": [
    "\n",
    "# functions for lists\n",
    "\n",
    "def conditional_swap( condition , a , b ) :\n",
    "  if 0 == condition:\n",
    "    return a , b\n",
    "  else :\n",
    "    return b , a\n",
    "\n",
    "\n",
    "def list_shift(l,shift) :\n",
    "  src_idx = max(-shift,0)\n",
    "  dst_idx = max(shift,0)\n",
    "  length = max(len(l)-abs(shift),0)\n",
    "  new_l = [ l[0].parent()(0) ]* len(l)\n",
    "  new_l[dst_idx:dst_idx+length] = l[src_idx:src_idx+length]\n",
    "  return new_l\n",
    "\n",
    "\n",
    "def list_pad_zero( al , len ):\n",
    "  al_ref = [ al[0].parent(0) ]*(len)\n",
    "  al = map( lambda x,y: y if x is None else x, al , al_ref )\n",
    "  return al\n",
    "\n",
    "\n",
    "def list_pad_front(al,nlen):\n",
    "  assert nlen >= len(al)\n",
    "  ral = list(al)\n",
    "  ral[:0] = [al[0].parent(0)]*(nlen-len(al))\n",
    "  return ral\n",
    "\n",
    "\n",
    "def list_mul( l , c ):\n",
    "  return [ x*c for x in l ]\n",
    "\n",
    "def list_add( l1 , l2 ):\n",
    "  return [ x+y for x,y in zip(l1,l2) ]\n",
    "\n",
    "\n",
    "###################################\n",
    "\n",
    "# functions for polynomials(lists)\n",
    "\n",
    "def poly_in_deg( a , deg ):\n",
    "  return list_pad_zero( a.list() , deg+1 )\n",
    "\n",
    "\n",
    "def poly_rev( a , deg ):\n",
    "  r = poly_in_deg(a,deg)\n",
    "  rev_r = r[::-1]\n",
    "  return rev_r\n",
    "\n",
    "\n",
    "def poly_mul( a , b ):\n",
    "  r = [a[0].parent(0)]*(len(a)+len(b)-1)\n",
    "  for i in range(len(a)):\n",
    "    r[i:i+len(b)] = list_add( r[i:i+len(b)] , list_mul(b,a[i]) )\n",
    "  return r\n",
    "\n",
    "\n",
    "###################################\n",
    "##\n",
    "##  This is not for a normal matrix. \n",
    "##  It is for the \"transition matrix\".\n",
    "##\n",
    "###################################\n",
    "\n",
    "def mat_mul_vec( mat , vec ) :\n",
    "  m_l = len(mat[0][0])\n",
    "  f_m00 = poly_mul(mat[0][0],vec[0])\n",
    "  g_m01 = poly_mul(mat[0][1],vec[1])\n",
    "  f = list_add( f_m00 , g_m01 )\n",
    "  f_m10 = poly_mul(mat[1][0],vec[0])\n",
    "  g_m11 = poly_mul(mat[1][1],vec[1])\n",
    "  g = list_add( f_m10 , g_m11 )\n",
    "  ## XXX: assert 0 for truncated part.\n",
    "  rf = f[m_l-1:]\n",
    "  rg = list_pad_zero( g[m_l:] , len(vec[1]) )\n",
    "  return  rf , rg \n",
    "\n",
    "\n",
    "def mat_mul( mat1 , mat2 ) :\n",
    "  m1_len = len(mat1[0][0])\n",
    "  m2_len = len(mat2[0][0])\n",
    "  r_len = m1_len+m2_len\n",
    "  r00_u = poly_mul(mat1[0][0],mat2[0][0])\n",
    "  r00_d = poly_mul(mat1[0][1],mat2[1][0])\n",
    "  r00 = list_add(list_pad_front(r00_u,r_len),list_pad_zero(r00_d,r_len))\n",
    "  r01_u = poly_mul(mat1[0][0],mat2[0][1])\n",
    "  r01_d = poly_mul(mat1[0][1],mat2[1][1])\n",
    "  r01 = list_add(list_pad_front(r01_u,r_len),list_pad_zero(r01_d,r_len))\n",
    "  r10_u = poly_mul(mat1[1][0],mat2[0][0])\n",
    "  r10_d = poly_mul(mat1[1][1],mat2[1][0])\n",
    "  r10 = list_add(list_pad_front(r10_u,r_len),list_pad_zero(r10_d,r_len))\n",
    "  r11_u = poly_mul(mat1[1][0],mat2[0][1])\n",
    "  r11_d = poly_mul(mat1[1][1],mat2[1][1])\n",
    "  r11 = list_add(list_pad_front(r11_u,r_len),list_pad_zero(r11_d,r_len))\n",
    "  return [ [r00,r01] , [ r10 , r11 ] ]\n",
    "\n",
    "def deg1mat_mul( deg1mat , mat2 ) :\n",
    "  inp_poly_len = len(mat2[0][0])\n",
    "  np_len = inp_poly_len+1\n",
    "  mat2_r0 = [list_pad_front(mat2[0][0],np_len),list_pad_front(mat2[0][1],np_len)]\n",
    "  mat2_r1 = [list_pad_zero(mat2[1][0],np_len),list_pad_zero(mat2[1][1],np_len)]\n",
    "  r0 , r0_ = conditional_swap( deg1mat[0][0][0] , mat2_r1 , mat2_r0 )   # use AND\n",
    "  m1_10 = deg1mat[1][0][0]\n",
    "  m1_11 = deg1mat[1][1][0]\n",
    "  r10_u = list_mul(mat2[0][0],m1_10)\n",
    "  r10_d = list_mul(mat2[1][0],m1_11)\n",
    "  r11_u = list_mul(mat2[0][1],m1_10)\n",
    "  r11_d = list_mul(mat2[1][1],m1_11)\n",
    "  r10 = list_add(list_pad_front(r10_u,np_len),list_pad_zero(r10_d,np_len))\n",
    "  r11 = list_add(list_pad_front(r11_u,np_len),list_pad_zero(r11_d,np_len))\n",
    "  return [ r0 , [ r10 , r11 ] ]\n"
   ]
  },
  {
   "cell_type": "code",
   "execution_count": 71,
   "metadata": {
    "collapsed": true
   },
   "outputs": [],
   "source": [
    "# Some variables for testing\n",
    "\n",
    "a1 = Fqx( xq*Fq.random_element() + Fq.random_element() )\n",
    "b1 = Fqx( xq*Fq.random_element() + Fq.random_element() )\n",
    "c1 = Fqx( xq*Fq.random_element() + Fq.random_element() )\n",
    "a2 = Fqx.random_element()\n",
    "b2 = Fqx.random_element()\n",
    "c2 = Fqx.random_element()\n",
    "a3 = Fqx( xq*Fq.random_element() + Fq.random_element() )*Fqx.random_element()\n",
    "b3 = Fqx( xq*Fq.random_element() + Fq.random_element() )*Fqx.random_element()\n",
    "c3 = Fqx( xq*Fq.random_element() + Fq.random_element() )*Fqx.random_element()"
   ]
  },
  {
   "cell_type": "code",
   "execution_count": 72,
   "metadata": {
    "collapsed": false
   },
   "outputs": [
    {
     "name": "stdout",
     "output_type": "stream",
     "text": [
      "1500*xq + 706 602*xq + 2491 1748*xq + 2442\n",
      "483*xq^2 + 3300*xq + 276 3443*xq^2 + 139*xq + 1223 1284*xq^2 + 4059*xq + 4589\n",
      "3870*xq^3 + 1686*xq^2 + 836*xq + 3419 3063*xq^3 + 4024*xq^2 + 1589*xq + 4055 1499*xq^3 + 724*xq^2 + 1680*xq + 4275\n"
     ]
    }
   ],
   "source": [
    "print a1,b1,c1\n",
    "print a2,b2,c2\n",
    "print a3,b3,c3"
   ]
  },
  {
   "cell_type": "code",
   "execution_count": 73,
   "metadata": {
    "collapsed": false
   },
   "outputs": [
    {
     "name": "stdout",
     "output_type": "stream",
     "text": [
      "lr: [f,g] =  [3063*xq^3 + 4024*xq^2 + 1589*xq + 4055, 483*xq^2 + 3300*xq + 276] \n",
      "ls: [1, 0] \n",
      "lt: [0, 1] \n",
      "\n",
      "lr[-1]: 2895*xq + 1432 \tls[-1]: 1 \tlt[-1] 621*xq + 1604\n",
      "lr[-1]: 1118 \tls[-1]: 3430*xq + 7 \tlt[-1] 4397*xq^2 + 1458*xq + 2047\n",
      "lr[-1]: 0 \tls[-1]: 1064*xq^2 + 3477*xq + 608 \tlt[-1] 4231*xq^3 + 251*xq^2 + 2754*xq + 715\n",
      "\n",
      "lr: [3063*xq^3 + 4024*xq^2 + 1589*xq + 4055, 483*xq^2 + 3300*xq + 276, 2895*xq + 1432, 1118, 0] \n",
      "ls: [1, 0, 1, 3430*xq + 7, 1064*xq^2 + 3477*xq + 608] \n",
      "lt: [0, 1, 621*xq + 1604, 4397*xq^2 + 1458*xq + 2047, 4231*xq^3 + 251*xq^2 + 2754*xq + 715] \n",
      "\n"
     ]
    },
    {
     "data": {
      "text/plain": [
       "(1, 1235*xq + 1080, 238*xq^2 + 2613*xq + 2979)"
      ]
     },
     "execution_count": 73,
     "metadata": {},
     "output_type": "execute_result"
    }
   ],
   "source": [
    "# The standard GCD in the textbook\n",
    "\n",
    "#output: gcd = s*f + t*g\n",
    "def ext_gcd( f , g ) :\n",
    "  if f.degree() < g.degree() :  f,g = g,f  #swap\n",
    "  T = f.parent()\n",
    "  lr = [ f , g ]\n",
    "  ls = [ T(1) , T(0) ]\n",
    "  lt = [ T(0) , T(1) ]\n",
    "  print \"lr: [f,g] = \", lr,'\\nls:',ls, \"\\nlt:\", lt, '\\n'\n",
    "  while lr[-1] != 0 :\n",
    "    qq = lr[-2] // lr[-1]\n",
    "    rr = lr[-2] % lr[-1]\n",
    "    lr.append( rr )\n",
    "    ls.append( ls[-2] - qq*ls[-1] )\n",
    "    lt.append( lt[-2] - qq*lt[-1] )\n",
    "    print \"lr[-1]:\",lr[-1] , \"\\tls[-1]:\", ls[-1], \"\\tlt[-1]\" , lt[-1]\n",
    "  print \"\\nlr:\", lr,'\\nls:',ls, \"\\nlt:\", lt, '\\n'\n",
    "  #normalize\n",
    "  inv_n = (lr[-2].coefficients()[0])^-1\n",
    "  return lr[-2]*inv_n,ls[-2]*inv_n,lt[-2]*inv_n\n",
    "\n",
    "ext_gcd( a2, b3 )"
   ]
  },
  {
   "cell_type": "code",
   "execution_count": 74,
   "metadata": {
    "collapsed": false
   },
   "outputs": [
    {
     "name": "stdout",
     "output_type": "stream",
     "text": [
      "[f,g]: [483*xq^2 + 3300*xq + 276, 3443*xq^2 + 139*xq + 1223] \n",
      "[1, 0] \n",
      "[0, 1] \n",
      "\n",
      "op0: [1,0] <-- choose f\n",
      "op1: [ 483 , 3443 x^ 0 ]\n",
      "-->\n",
      "[f,g]: [483*xq^2 + 3300*xq + 276, 3688*xq + 3130] \n",
      "[1, 0] \n",
      "[1148, 483] \n",
      "\n",
      "op0: [0,1] <-- swap, choose g\n",
      "op1: [ 3688 , 483 x^ 1 ]\n",
      "-->\n",
      "[f,g]: [3688*xq + 3130, 2899*xq + 3277] \n",
      "[1148, 483] \n",
      "[1027*xq + 3688, 852*xq] \n",
      "\n",
      "op0: [1,0] <-- choose f\n",
      "op1: [ 3688 , 2899 x^ 0 ]\n",
      "-->\n",
      "[f,g]: [3688*xq + 3130, 10] \n",
      "[1148, 483] \n",
      "[xq + 3225, 1932*xq + 38] \n",
      "\n",
      "op0: [0,1] <-- swap, choose g\n",
      "op1: [ 10 , 3688 x^ 1 ]\n",
      "-->\n",
      "[f,g]: [10, 3754] \n",
      "[xq + 3225, 1932*xq + 38] \n",
      "[903*xq^2 + 1481*xq + 2298, 16*xq^2 + 2177*xq + 239] \n",
      "\n",
      "op0: [1,0] <-- choose f\n",
      "op1: [ 10 , 3754 x^ 0 ]\n",
      "-->\n",
      "[f,g]: [10, 0] \n",
      "[xq + 3225, 1932*xq + 38] \n",
      "[4439*xq^2 + 1874*xq + 4433, 160*xq^2 + 4458*xq + 2059] \n",
      "\n"
     ]
    },
    {
     "data": {
      "text/plain": [
       "(1, [4132*xq + 2618, 3866*xq + 922])"
      ]
     },
     "execution_count": 74,
     "metadata": {},
     "output_type": "execute_result"
    }
   ],
   "source": [
    "#first variant: Performing operations as matrix-multiplication of 2x2 matrices.\n",
    "\n",
    "def ext_gcd1( f , g ) :\n",
    "  if f.degree() < g.degree() :  f,g = g,f  #swap\n",
    "  Ta = f.parent()\n",
    "  x = Ta.gen()\n",
    "  lr = [ f , g ]\n",
    "  ls = [Ta(1),Ta(0)]\n",
    "  lt = [Ta(0),Ta(1)]\n",
    "  print \"[f,g]:\" , lr,\"\\n\",ls,\"\\n\",lt , \"\\n\"\n",
    "  while lr[-1] != 0 :\n",
    "    if lr[0].degree() > lr[1].degree() : \n",
    "       lr = lr[::-1]\n",
    "       ls , lt = lt , ls\n",
    "       print \"op0: [0,1] <-- swap, choose g\"\n",
    "    else:\n",
    "       print \"op0: [1,0] <-- choose f\"\n",
    "    delta = lr[1].degree() - lr[0].degree()\n",
    "    lc_f = lr[0].leading_coefficient()\n",
    "    lc_g = lr[1].leading_coefficient()\n",
    "    lr[1] = lr[1]*lc_f - lr[0]*lc_g*(x^delta)\n",
    "    lt[0] = lt[0]*lc_f-ls[0]*lc_g*(x^delta)\n",
    "    lt[1] = lt[1]*lc_f-ls[1]*lc_g*(x^delta)\n",
    "    print \"op1: [\" , lc_f , \",\" , lc_g , \"x^\" , delta , \"]\"\n",
    "    print \"-->\\n[f,g]:\" , lr,\"\\n\",ls,\"\\n\",lt , \"\\n\"\n",
    "  #normalize\n",
    "  inv_n = (lr[-2].leading_coefficient())^-1\n",
    "  return lr[-2]*inv_n,map(lambda x:x*inv_n, ls )\n",
    "\n",
    "# demo code:\n",
    "ext_gcd1( a2, b2 )"
   ]
  },
  {
   "cell_type": "markdown",
   "metadata": {},
   "source": [
    "## Section 2: DivStep and constant-time GCD"
   ]
  },
  {
   "cell_type": "code",
   "execution_count": 75,
   "metadata": {
    "collapsed": false
   },
   "outputs": [
    {
     "name": "stdout",
     "output_type": "stream",
     "text": [
      "[f,g] =  [[483, 3300, 276], [3443, 139, 1223]] \n",
      "divstep(0,f,g): -->\n"
     ]
    },
    {
     "data": {
      "text/plain": [
       "(\n",
       "                                      [     1      0]\n",
       "1, [483, 3300, 276], [3688, 3130, 0], [1148/x  483/x]\n",
       ")"
      ]
     },
     "execution_count": 75,
     "metadata": {},
     "output_type": "execute_result"
    }
   ],
   "source": [
    "\n",
    "# One 'division step' in the GCD.\n",
    "# Trying to make it time-constant by applying 'conditional swap'\n",
    "\n",
    "def divstep( delta , f , g ):\n",
    "  coef_k = f[0].parent()\n",
    "  kx.<x> = coef_k[] #kx = T_[0][0].parent()\n",
    "  #x = kx.gen()\n",
    "  #M2kx = T_.parent() \n",
    "  M2kx = MatrixSpace(kx.fraction_field(),2)   \n",
    "  f = list_pad_zero( f , max(len(f),len(g)))\n",
    "  g = list_pad_zero( g , max(len(f),len(g)))\n",
    "  T0 = M2kx( (1,0,-g[0]/x,f[0]/x) )\n",
    "  T1 = M2kx( (0,1,g[0]/x,-f[0]/x) )\n",
    "  #conditional move\n",
    "  c = 1 if delta > 0 and g[0] != 0 else 0\n",
    "  rc , r1 = conditional_swap( c , [delta,f,g] , [-delta,g,f] )\n",
    "  T0 , T1 = conditional_swap( c , T0 , T1 )\n",
    "  # elimination\n",
    "  rc[0] = 1 + rc[0]\n",
    "  f = rc[1]\n",
    "  g = rc[2]\n",
    "  rg = [ f[0] * gi - g[0] * fi for fi,gi in zip(f,g) ]\n",
    "  #rg.pop(0)\n",
    "  rg = list_shift(rg,-1)\n",
    "  return rc[0] , rc[1] , rg , T0\n",
    "\n",
    "# demo code:\n",
    "# Warning: The lists are in the reverse order of polynomials\n",
    "#\n",
    "f = poly_rev( a2 , 2 )\n",
    "g = poly_rev( b2 , 2 )\n",
    "print \"[f,g] = \", [ f, g ] , \"\\ndivstep(0,f,g): -->\"\n",
    "divstep( 0 , f , g )\n",
    "\n"
   ]
  },
  {
   "cell_type": "code",
   "execution_count": 76,
   "metadata": {
    "collapsed": false
   },
   "outputs": [
    {
     "name": "stdout",
     "output_type": "stream",
     "text": [
      "0 [483, 3300, 276] [3443, 139, 1223] \n",
      "[1 0]\n",
      "[0 1] \n",
      "\n",
      "1 [483, 3300, 276] [3688, 3130, 0] \n",
      "[     1      0]\n",
      "[1148/x  483/x] \n",
      "[      1       0]\n",
      "[1148/xq  483/xq] \n",
      "\n",
      "0 [3688, 3130, 0] [2899, 3277, 0] \n",
      "[     0      1]\n",
      "[3688/x 4108/x] \n",
      "[              1148/xq                483/xq]\n",
      "[(3688*xq + 1027)/xq^2              852/xq^2] \n",
      "\n",
      "1 [3688, 3130, 0] [10, 0, 0] \n",
      "[     1      0]\n",
      "[1692/x 3688/x] \n",
      "[            1148/xq              483/xq]\n",
      "[ (3225*xq + 1)/xq^3 (38*xq + 1932)/xq^3] \n",
      "\n",
      "0 [10, 0, 0] [3754, 0, 0] \n",
      "[    0     1]\n",
      "[ 10/x 903/x] \n",
      "[              (3225*xq + 1)/xq^3              (38*xq + 1932)/xq^3]\n",
      "[(2298*xq^2 + 1481*xq + 903)/xq^4   (239*xq^2 + 2177*xq + 16)/xq^4] \n",
      "\n",
      "output:\n",
      "0 [1, 0, 0] [3754, 0, 0] \n",
      "[           (2618*xq + 4132)/xq^3             (922*xq + 3866)/xq^3]\n",
      "[(2298*xq^2 + 1481*xq + 903)/xq^4   (239*xq^2 + 2177*xq + 16)/xq^4] \n",
      "\n"
     ]
    },
    {
     "data": {
      "text/plain": [
       "(\n",
       "[1, 0, 0],\n",
       "\n",
       "[           (2618*xq + 4132)/xq^3             (922*xq + 3866)/xq^3]\n",
       "[(2298*xq^2 + 1481*xq + 903)/xq^4   (239*xq^2 + 2177*xq + 16)/xq^4]\n",
       ")"
      ]
     },
     "execution_count": 76,
     "metadata": {},
     "output_type": "execute_result"
    }
   ],
   "source": [
    "\n",
    "# The reversed Constant-time GCD\n",
    "\n",
    "def ext_gcd2( a , b ):\n",
    "  deg_a = a.degree()\n",
    "  deg_b = b.degree()\n",
    "  if deg_a < deg_b :\n",
    "    a , b = b , a\n",
    "    deg_a , deg_b = deg_b , deg_a\n",
    "  if deg_a < 0 : return a\n",
    "  #if deg_a == deg_b : \n",
    "  #  b = b*a.leading_coefficient() - a*b.leading_coefficient()\n",
    "  #deg_b = deg_a - 1\n",
    "  delta = deg_a - deg_b\n",
    "  r1 = poly_rev( a , deg_a )\n",
    "  r2 = poly_rev( b , deg_b )\n",
    "  M2kx = MatrixSpace( a.parent().fraction_field() , 2 )\n",
    "  T0 = M2kx(1)\n",
    "  print delta , r1 , r2 , \"\\n\", T0 , \"\\n\"\n",
    "  delta , r1 , r2 , T1 = divstep( delta , r1 , r2 )\n",
    "  T0 = M2kx(T1)*T0\n",
    "  print delta , r1 , r2 , '\\n' , T1 , '\\n' , T0 , '\\n'\n",
    "  for i in range(deg_a+deg_b-1) :\n",
    "    delta , r1 , r2 , T1 = divstep( delta , r1 , r2 )\n",
    "    T0 = M2kx(T1)*T0\n",
    "    print delta , r1 , r2 , '\\n' , T1 , '\\n' , T0 , '\\n'\n",
    "  #normalize\n",
    "  inv = r1[0]^-1\n",
    "  r1 = map( lambda x: x*inv , r1 )\n",
    "  T0[0] = T0[0]*inv\n",
    "  print \"output:\"\n",
    "  print delta , r1 , r2 , '\\n' , T0 , '\\n'\n",
    "  return r1 , T0\n",
    "\n",
    "# demo code:\n",
    "ext_gcd2( a2, b2 )\n"
   ]
  },
  {
   "cell_type": "code",
   "execution_count": 77,
   "metadata": {
    "collapsed": false
   },
   "outputs": [
    {
     "name": "stdout",
     "output_type": "stream",
     "text": [
      "1 [1533, 3599, 3286, 3457] [3164, 2066, 293] \n",
      "[1 0]\n",
      "[0 1] \n",
      "\n",
      "0 [3164, 2066, 293, 0] [2168, 3629, 2186, 0] \n",
      "[     0      1]\n",
      "[3164/x 3058/x] \n",
      "[      0       1]\n",
      "[3164/xq 3058/xq] \n",
      "\n",
      "1 [3164, 2066, 293, 0] [1793, 792, 0, 0] \n",
      "[     1      0]\n",
      "[2423/x 3164/x] \n",
      "[                    0                     1]\n",
      "[            2516/xq^2 (2423*xq + 2275)/xq^2] \n",
      "\n",
      "0 [1793, 792, 0, 0] [199, 1975, 0, 0] \n",
      "[     0      1]\n",
      "[1793/x 1427/x] \n",
      "[                      2516/xq^2           (2423*xq + 2275)/xq^2]\n",
      "[                       170/xq^3 (1793*xq^2 + 598*xq + 588)/xq^3] \n",
      "\n",
      "1 [1793, 792, 0, 0] [0, 0, 0, 0] \n",
      "[     1      0]\n",
      "[4392/x 1793/x] \n",
      "[                        2516/xq^2             (2423*xq + 2275)/xq^2]\n",
      "[            (4326*xq + 1804)/xq^4 (1027*xq^2 + 4295*xq + 2945)/xq^4] \n",
      "\n",
      "2 [1793, 792, 0, 0] [0, 0, 0, 0] \n",
      "[     1      0]\n",
      "[     0 1793/x] \n",
      "[                      2516/xq^2           (2423*xq + 2275)/xq^2]\n",
      "[          (2319*xq + 2508)/xq^5 (420*xq^2 + 1828*xq + 735)/xq^5] \n",
      "\n",
      "output:\n",
      "2 [1, 2986, 0, 0] [0, 0, 0, 0] \n",
      "[                      3179/xq^2           (3837*xq + 3650)/xq^2]\n",
      "[          (2319*xq + 2508)/xq^5 (420*xq^2 + 1828*xq + 735)/xq^5] \n",
      "\n"
     ]
    },
    {
     "data": {
      "text/plain": [
       "(\n",
       "[1, 2986, 0, 0],\n",
       "\n",
       "[                      3179/xq^2           (3837*xq + 3650)/xq^2]\n",
       "[          (2319*xq + 2508)/xq^5 (420*xq^2 + 1828*xq + 735)/xq^5]\n",
       ")"
      ]
     },
     "execution_count": 77,
     "metadata": {},
     "output_type": "execute_result"
    }
   ],
   "source": [
    "ext_gcd2( a2*b1 , a1*b1 )"
   ]
  },
  {
   "cell_type": "code",
   "execution_count": 78,
   "metadata": {
    "collapsed": false
   },
   "outputs": [
    {
     "name": "stdout",
     "output_type": "stream",
     "text": [
      "[f,g]: [1533*xq^3 + 3599*xq^2 + 3286*xq + 3457, 3164*xq^2 + 2066*xq + 293] \n",
      "[1, 0] \n",
      "[0, 1] \n",
      "\n",
      "op0: [0,1] <-- swap, choose g\n",
      "op1: [ 3164 , 1533 x^ 1 ]\n",
      "-->\n",
      "[f,g]: [3164*xq^2 + 2066*xq + 293, 2168*xq^2 + 3629*xq + 2186] \n",
      "[0, 1] \n",
      "[3164, 3058*xq] \n",
      "\n",
      "op0: [1,0] <-- choose f\n",
      "op1: [ 3164 , 2168 x^ 0 ]\n",
      "-->\n",
      "[f,g]: [3164*xq^2 + 2066*xq + 293, 1793*xq + 792] \n",
      "[0, 1] \n",
      "[2516, 2275*xq + 2423] \n",
      "\n",
      "op0: [0,1] <-- swap, choose g\n",
      "op1: [ 1793 , 3164 x^ 1 ]\n",
      "-->\n",
      "[f,g]: [1793*xq + 792, 199*xq + 1975] \n",
      "[2516, 2275*xq + 2423] \n",
      "[170*xq, 588*xq^2 + 598*xq + 1793] \n",
      "\n",
      "op0: [1,0] <-- choose f\n",
      "op1: [ 1793 , 199 x^ 0 ]\n",
      "-->\n",
      "[f,g]: [1793*xq + 792, 0] \n",
      "[2516, 2275*xq + 2423] \n",
      "[1804*xq + 4326, 2945*xq^2 + 4295*xq + 1027] \n",
      "\n"
     ]
    },
    {
     "data": {
      "text/plain": [
       "(xq + 2986, [3179, 3650*xq + 3837])"
      ]
     },
     "execution_count": 78,
     "metadata": {},
     "output_type": "execute_result"
    }
   ],
   "source": [
    "ext_gcd1( a2*b1 , a1*b1 )"
   ]
  },
  {
   "cell_type": "code",
   "execution_count": 79,
   "metadata": {
    "collapsed": false
   },
   "outputs": [
    {
     "name": "stdout",
     "output_type": "stream",
     "text": [
      "[f,g] =  [[483, 3300, 276], [3443, 139, 1223]] \n",
      "divstep(0,f,g): -->\n"
     ]
    },
    {
     "data": {
      "text/plain": [
       "(1, [483, 3300, 276], [3688, 3130, 0], [[[1], [0]], [[1148], [483]]])"
      ]
     },
     "execution_count": 79,
     "metadata": {},
     "output_type": "execute_result"
    }
   ],
   "source": [
    "# The \"list\" version of previous ext_ext2()\n",
    "\n",
    "def divstep_list( delta , f , g ):\n",
    "  coef_k = f[0].parent()\n",
    "  T00 = [ [coef_k(1)] , [coef_k(0)] ]\n",
    "  T10 = [ [-g[0]] , [f[0]]  ]\n",
    "  T01 = [ [coef_k(0)] , [coef_k(1)] ]\n",
    "  T11 = [ [g[0]]  , [-f[0]] ]\n",
    "  #conditional move\n",
    "  c = 1 if delta > 0 and g[0] != 0 else 0\n",
    "  rd , rd_ = conditional_swap( c , delta , -delta )\n",
    "  f  , g   = conditional_swap( c , f , g )\n",
    "  T0 , T0_ = conditional_swap( c , [ T00, T10 ] , [ T01 , T11 ] )\n",
    "  # elimination\n",
    "  rd = rd + 1\n",
    "  rg = [ f[0] * gi - g[0] * fi for fi,gi in zip(f,g) ]\n",
    "  rg = list_shift( rg , -1 )\n",
    "  return rd , f , rg , T0\n",
    "\n",
    "f = poly_rev( a2 , 2 )\n",
    "g = poly_rev( b2 , 2 )\n",
    "print \"[f,g] = \", [ f, g ] , \"\\ndivstep(0,f,g): -->\"\n",
    "divstep_list( 0 , f , g )\n"
   ]
  },
  {
   "cell_type": "code",
   "execution_count": 80,
   "metadata": {
    "collapsed": false
   },
   "outputs": [
    {
     "name": "stdout",
     "output_type": "stream",
     "text": [
      "1 [1533, 3599, 3286, 3457] [3164, 2066, 293, 0] \n",
      "\n",
      "0 [3164, 2066, 293, 0] [2168, 3629, 2186, 0] \n",
      "[[[0], [1]], [[3164], [3058]]] \n",
      "\n",
      "1 [3164, 2066, 293, 0] [1793, 792, 0, 0] \n",
      "[[[1], [0]], [[2423], [3164]]] \n",
      "[[[0, 0], [0, 1]], [[2516, 0], [2275, 2423]]] \n",
      "\n",
      "0 [1793, 792, 0, 0] [199, 1975, 0, 0] \n",
      "[[[0], [1]], [[1793], [1427]]] \n",
      "[[[2516, 0, 0], [2275, 2423, 0]], [[170, 0, 0], [588, 598, 1793]]] \n",
      "\n",
      "1 [1793, 792, 0, 0] [0, 0, 0, 0] \n",
      "[[[1], [0]], [[4392], [1793]]] \n",
      "[[[0, 2516, 0, 0], [0, 2275, 2423, 0]], [[1804, 4326, 0, 0], [2945, 4295, 1027, 0]]] \n",
      "\n",
      "2 [1793, 792, 0, 0] [0, 0, 0, 0] \n",
      "[[[1], [0]], [[0], [1793]]] \n",
      "[[[0, 0, 2516, 0, 0], [0, 0, 2275, 2423, 0]], [[2508, 2319, 0, 0, 0], [735, 1828, 420, 0, 0]]] \n",
      "\n",
      "output:\n",
      "2 [1, 2986, 0, 0] [0, 0, 0, 0] \n",
      "[[[0, 0, 3179, 0, 0], [0, 0, 3650, 3837, 0]], [[2508, 2319, 0, 0, 0], [735, 1828, 420, 0, 0]]] \n",
      "\n"
     ]
    },
    {
     "data": {
      "text/plain": [
       "([1, 2986, 0, 0],\n",
       " [[[0, 0, 3179, 0, 0], [0, 0, 3650, 3837, 0]],\n",
       "  [[2508, 2319, 0, 0, 0], [735, 1828, 420, 0, 0]]])"
      ]
     },
     "execution_count": 80,
     "metadata": {},
     "output_type": "execute_result"
    }
   ],
   "source": [
    "\n",
    "def extgcd_list( a , b ):\n",
    "  deg_a = a.degree()\n",
    "  deg_b = b.degree()\n",
    "  if deg_a < deg_b :\n",
    "    a , b = b , a\n",
    "    deg_a , deg_b = deg_b , deg_a\n",
    "  if deg_a < 0 : return a\n",
    "  if deg_a == deg_b : \n",
    "    b = b*a.leading_coefficient() - a*b.leading_coefficient()\n",
    "  deg_b = deg_a - 1\n",
    "  delta = deg_a - deg_b\n",
    "  r1 = poly_rev( a , deg_a )\n",
    "  r2 = poly_rev( b , deg_b )\n",
    "  lenlist = deg_a + 1\n",
    "  r2 = list_pad_zero( r2 , lenlist )\n",
    "  coef_k = r1[0].parent()\n",
    "  print delta , r1 , r2 , \"\\n\"\n",
    "  delta , r1 , r2 , T1 = divstep_list( delta , r1 , r2 )\n",
    "  T0 = T1    # T1*Identity = T1\n",
    "  print delta , r1 , r2 , '\\n' , T1 , '\\n'\n",
    "  for i in range(deg_a+deg_b-1) :\n",
    "    delta , r1 , r2 , T1 = divstep_list( delta , r1 , r2 )\n",
    "    T0 = deg1mat_mul( T1 , T0 )\n",
    "    print delta , r1 , r2 , '\\n' , T1 , '\\n' , T0 , '\\n'\n",
    "  #normalize\n",
    "  inv = r1[0]^-1\n",
    "  r1 = map( lambda x: x*inv , r1 )\n",
    "  T0[0][0] = list_mul( T0[0][0] , inv )\n",
    "  T0[0][1] = list_mul( T0[0][1] , inv )\n",
    "  print \"output:\"\n",
    "  print delta , r1 , r2 , '\\n' , T0 , '\\n'\n",
    "  return r1 , T0\n",
    "\n",
    "\n",
    "# demo code:\n",
    "extgcd_list( a2*b1 , a1*b1 )\n",
    "\n"
   ]
  },
  {
   "cell_type": "markdown",
   "metadata": {},
   "source": [
    "## Section 3: JumpDivStep and constant-time GCD"
   ]
  },
  {
   "cell_type": "code",
   "execution_count": 81,
   "metadata": {
    "collapsed": false
   },
   "outputs": [
    {
     "name": "stdout",
     "output_type": "stream",
     "text": [
      "jumpdivsteps( 4 5 0 276*xq^2 + 3300*xq + 483 1223*xq^2 + 139*xq + 3443 )\n",
      "truncated: f= 276*xq^2 + 3300*xq + 483   g= 1223*xq^2 + 139*xq + 3443\n",
      "j= 2\n",
      "jumpdivsteps( 2 2 0 276*xq^2 + 3300*xq + 483 1223*xq^2 + 139*xq + 3443 )\n",
      "truncated: f= 3300*xq + 483   g= 139*xq + 3443\n",
      "j= 1\n",
      "jumpdivsteps( 1 1 0 3300*xq + 483 139*xq + 3443 )\n",
      "truncated: f= 483   g= 3443\n",
      "P1:\n",
      "[      1       0]\n",
      "[1148/xq  483/xq]\n",
      "P1x(f,g): f= 3300*xq + 483   g= 3688\n",
      "truncated: f= 483   g= 3688\n",
      "jumpdivsteps( 1 1 1 483 3688 )\n",
      "truncated: f= 483   g= 3688\n",
      "P2:\n",
      "[      0       1]\n",
      "[3688/xq 4108/xq]\n",
      "P2x(f,g): f= 3688   g= 0\n",
      "truncated: f= 3688   g= 0\n",
      "P1:\n",
      "[              1148/xq                483/xq]\n",
      "[(3688*xq + 1027)/xq^2              852/xq^2]\n",
      "P1x(f,g): f= 3130*xq + 3688   g= 3277*xq + 2899\n",
      "truncated: f= 3130*xq + 3688   g= 3277*xq + 2899\n",
      "jumpdivsteps( 2 2 0 3130*xq + 3688 3277*xq + 2899 )\n",
      "truncated: f= 3130*xq + 3688   g= 3277*xq + 2899\n",
      "j= 1\n",
      "jumpdivsteps( 1 1 0 3130*xq + 3688 3277*xq + 2899 )\n",
      "truncated: f= 3688   g= 2899\n",
      "P1:\n",
      "[      1       0]\n",
      "[1692/xq 3688/xq]\n",
      "P1x(f,g): f= 3130*xq + 3688   g= 10\n",
      "truncated: f= 3688   g= 10\n",
      "jumpdivsteps( 1 1 1 3688 10 )\n",
      "truncated: f= 3688   g= 10\n",
      "P2:\n",
      "[     0      1]\n",
      "[ 10/xq 903/xq]\n",
      "P2x(f,g): f= 10   g= 0\n",
      "truncated: f= 10   g= 0\n",
      "P2:\n",
      "[            1692/xq             3688/xq]\n",
      "[(10*xq + 3664)/xq^2           1789/xq^2]\n",
      "P2x(f,g): f= 10   g= 3754\n",
      "truncated: f= 10   g= 3754\n",
      "\n",
      "delta: 0 [f,g] =  [10, 3754]\n",
      "([     0      1]\n",
      "[ 10/xq 903/xq], [      1       0]\n",
      "[1692/xq 3688/xq], [      0       1]\n",
      "[3688/xq 4108/xq], [      1       0]\n",
      "[1148/xq  483/xq])\n",
      "[              (3225*xq + 1)/xq^3              (38*xq + 1932)/xq^3]\n",
      "[(2298*xq^2 + 1481*xq + 903)/xq^4   (239*xq^2 + 2177*xq + 16)/xq^4]\n"
     ]
    }
   ],
   "source": [
    "\n",
    "\n",
    "def jumpdivsteps(n,t,delta,f,g):\n",
    "  print \"jumpdivsteps(\",n,t,delta,f,g,\")\"\n",
    "  assert t>= n and n>=0\n",
    "  f,g = f.truncate(t), g.truncate(t)\n",
    "  print \"truncated: f=\",f , \"  g=\", g\n",
    "  kx=f.parent()\n",
    "  x=kx.gen()\n",
    "  M2kx=MatrixSpace(kx.fraction_field(),2)\n",
    "  if n == 0: return delta,f,g,(),M2kx(1)\n",
    "  if n==1:\n",
    "    c = 1 if delta > 0 and g[0] != 0 else 0\n",
    "    Tc, Td = conditional_swap( c , M2kx((1,0,-g[0]/x,f[0]/x)), M2kx( (0,1,g[0]/x,-f[0]/x) ) )\n",
    "    delta , d2 = conditional_swap( c , delta , -delta )\n",
    "    fc , f2 = conditional_swap( c , f , g )\n",
    "    gc , g2 = conditional_swap( c , f[0]*g-g[0]*f , g[0]*f-f[0]*g )\n",
    "    return 1+delta,fc,kx(gc/x),(Tc,),Tc\n",
    "  # other cases of n\n",
    "  j = n//2\n",
    "  print \"j=\",j\n",
    "  delta,f1,g1,T1,P1 = jumpdivsteps(j,j,delta,f,g)\n",
    "  print \"P1:\\n\" , P1 \n",
    "  f,g = P1*vector( (f,g) )\n",
    "  print \"P1x(f,g): f=\" , f , \"  g=\", g\n",
    "  f,g = kx(f).truncate(t-j),kx(g).truncate(t-j)\n",
    "  print \"truncated: f=\",f , \"  g=\", g\n",
    "  delta,f2,g2,T2,P2 = jumpdivsteps(n-j,n-j,delta,f,g)\n",
    "  print \"P2:\\n\" , P2\n",
    "  f,g = P2*vector( (f,g) )\n",
    "  print \"P2x(f,g): f=\" , f , \"  g=\", g\n",
    "  f,g = kx(f).truncate(t-n+1),kx(g).truncate(t-n)\n",
    "  print \"truncated: f=\",f , \"  g=\", g\n",
    "  return delta,f,g,T2+T1,P2*P1\n",
    "\n",
    "# demo code:\n",
    "f = a2.reverse( 2 )\n",
    "g = b2.reverse( 2 )\n",
    "delta, f , g , T2 , T1 = jumpdivsteps( 4 , 5 , 0 , f , g )\n",
    "print \"\\ndelta:\" , delta, \"[f,g] = \" , [f,g]\n",
    "print T2\n",
    "print T1\n"
   ]
  },
  {
   "cell_type": "code",
   "execution_count": 82,
   "metadata": {
    "collapsed": false
   },
   "outputs": [
    {
     "name": "stdout",
     "output_type": "stream",
     "text": [
      "jumpdivsteps( 3 5 1 483*xq^2 + 3300*xq + 276 602*xq + 2491 )\n",
      "truncated: f= 483*xq^2 + 3300*xq + 276   g= 602*xq + 2491\n",
      "j= 1\n",
      "jumpdivsteps( 1 1 1 483*xq^2 + 3300*xq + 276 602*xq + 2491 )\n",
      "truncated: f= 276   g= 2491\n",
      "P1:\n",
      "[      0       1]\n",
      "[2491/xq 4315/xq]\n",
      "P1x(f,g): f= 602*xq + 2491   g= 311*xq + 1534\n",
      "truncated: f= 602*xq + 2491   g= 311*xq + 1534\n",
      "jumpdivsteps( 2 2 0 602*xq + 2491 311*xq + 1534 )\n",
      "truncated: f= 602*xq + 2491   g= 311*xq + 1534\n",
      "j= 1\n",
      "jumpdivsteps( 1 1 0 602*xq + 2491 311*xq + 1534 )\n",
      "truncated: f= 2491   g= 1534\n",
      "P1:\n",
      "[      1       0]\n",
      "[3057/xq 2491/xq]\n",
      "P1x(f,g): f= 602*xq + 2491   g= 2736\n",
      "truncated: f= 2491   g= 2736\n",
      "jumpdivsteps( 1 1 1 2491 2736 )\n",
      "truncated: f= 2491   g= 2736\n",
      "P2:\n",
      "[      0       1]\n",
      "[2736/xq 2100/xq]\n",
      "P2x(f,g): f= 2736   g= 0\n",
      "truncated: f= 2736   g= 0\n",
      "P2:\n",
      "[              3057/xq               2491/xq]\n",
      "[(2736*xq + 1482)/xq^2             1951/xq^2]\n",
      "P2x(f,g): f= 2736   g= 3494\n",
      "truncated: f= 2736   g= 3494\n"
     ]
    },
    {
     "data": {
      "text/plain": [
       "1"
      ]
     },
     "execution_count": 82,
     "metadata": {},
     "output_type": "execute_result"
    }
   ],
   "source": [
    "def jumpgcd(R0,R1):\n",
    "  d = R0.degree()\n",
    "  assert d>0 and d>R1.degree()\n",
    "  f,g = R0.reverse(d), R1.reverse(d-1)\n",
    "  delta,f,g,T,P = jumpdivsteps(2*d-1,3*d-1,1,f,g)\n",
    "  return f.reverse(delta//2)/f[0]\n",
    "\n",
    "# demo code:\n",
    "f = a2.reverse( 2 )\n",
    "g = b1.reverse( 1 )\n",
    "jumpgcd(f,g)\n"
   ]
  },
  {
   "cell_type": "code",
   "execution_count": 83,
   "metadata": {
    "collapsed": false
   },
   "outputs": [
    {
     "name": "stdout",
     "output_type": "stream",
     "text": [
      "jumpdivsteps_list( 5 0 [483, 3300, 276] [3443, 139, 1223] )\n",
      "j= 2\n",
      "jumpdivstep_mat( 2 0 [483, 3300, 276] [3443, 139, 1223] )\n",
      "truncated( 2 ): f= [483, 3300]   g= [3443, 139]\n",
      "j= 1\n",
      "jumpdivstep_mat( 1 0 [483, 3300] [3443, 139] )\n",
      "truncated( 1 ): f= [483]   g= [3443]\n",
      "P1:\n",
      "[[[1], [0]], [[1148], [483]]]\n",
      "P1x(f,g): f= [483, 3300]   g= [3688, 0]\n",
      "jumpdivstep_mat( 1 1 [483, 3300] [3688, 0] )\n",
      "truncated( 1 ): f= [483]   g= [3688]\n",
      "P2:\n",
      "[[[0], [1]], [[3688], [4108]]]\n",
      "ret:  0 [[[1148, 0], [483, 0]], [[1027, 3688], [852, 0]]]\n",
      "P1:\n",
      "[[[1148, 0], [483, 0]], [[1027, 3688], [852, 0]]]\n",
      "P1x(f,g): f= [3688, 3130, 0]   g= [2899, 3277, 0]\n",
      "jumpdivstep_mat( 3 0 [3688, 3130, 0] [2899, 3277, 0] )\n",
      "truncated( 3 ): f= [3688, 3130, 0]   g= [2899, 3277, 0]\n",
      "j= 1\n",
      "jumpdivstep_mat( 1 0 [3688, 3130, 0] [2899, 3277, 0] )\n",
      "truncated( 1 ): f= [3688]   g= [2899]\n",
      "P1:\n",
      "[[[1], [0]], [[1692], [3688]]]\n",
      "P1x(f,g): f= [3688, 3130, 0]   g= [10, 0, 0]\n",
      "jumpdivstep_mat( 2 1 [3688, 3130, 0] [10, 0, 0] )\n",
      "truncated( 2 ): f= [3688, 3130]   g= [10, 0]\n",
      "j= 1\n",
      "jumpdivstep_mat( 1 1 [3688, 3130] [10, 0] )\n",
      "truncated( 1 ): f= [3688]   g= [10]\n",
      "P1:\n",
      "[[[0], [1]], [[10], [903]]]\n",
      "P1x(f,g): f= [10, 0]   g= [3754, 0]\n",
      "jumpdivstep_mat( 1 0 [10, 0] [3754, 0] )\n",
      "truncated( 1 ): f= [10]   g= [3754]\n",
      "P2:\n",
      "[[[1], [0]], [[837], [10]]]\n",
      "ret:  1 [[[0, 0], [0, 1]], [[100, 0], [4439, 837]]]\n",
      "P2:\n",
      "[[[0, 0], [0, 1]], [[100, 0], [4439, 837]]]\n",
      "ret:  1 [[[0, 1692, 0], [0, 3688, 0]], [[4503, 2276, 0], [4117, 1704, 0]]]\n",
      "P2:\n",
      "[[[0, 1692, 0], [0, 3688, 0]], [[4503, 2276, 0], [4117, 1704, 0]]]\n",
      "P2x(f,g): f= [10, 0, 0]   g= [0, 0, 0]\n",
      "truncated ???: f= [10, 0, 0]   g= [0, 0, 0]\n"
     ]
    },
    {
     "data": {
      "text/plain": [
       "(1,\n",
       " [10, 0, 0],\n",
       " [0, 0, 0],\n",
       " [[[0, 1, 3225, 0, 0], [0, 1932, 38, 0, 0]],\n",
       "  [[4439, 1874, 4433, 0, 0], [160, 4458, 2059, 0, 0]]])"
      ]
     },
     "execution_count": 83,
     "metadata": {},
     "output_type": "execute_result"
    }
   ],
   "source": [
    "\n",
    "# The list version of previous JumpGCD\n",
    "\n",
    "def jumpdivstep_mat(n,delta,f,g):\n",
    "  print \"jumpdivstep_mat(\",n,delta,f,g,\")\"\n",
    "  assert n>0\n",
    "  ### truncate \n",
    "  f,g = f[:n], g[:n]\n",
    "  print \"truncated(\",n,\"): f=\",f , \"  g=\", g\n",
    "  if n==1:\n",
    "    rd,f,g,T = divstep_list( delta , f , g )\n",
    "    return rd,T\n",
    "  # other cases of n\n",
    "  j = n//2\n",
    "  print \"j=\",j\n",
    "  delta,P1 = jumpdivstep_mat(j,delta,f,g)\n",
    "  print \"P1:\\n\" , P1 \n",
    "  f,g = mat_mul_vec( P1 , (f,g) )\n",
    "  print \"P1x(f,g): f=\" , f , \"  g=\", g\n",
    "  delta,P2 = jumpdivstep_mat(n-j,delta,f,g)\n",
    "  print \"P2:\\n\" , P2\n",
    "  #f,g = mat_mul_vec( P2 , (f,g) )\n",
    "  #print \"P2x(f,g): f=\" , f , \"  g=\", g\n",
    "  #f,g = kx(f).truncate(t-n+1),kx(g).truncate(t-n)\n",
    "  #print \"truncated: f=\",f , \"  g=\", g\n",
    "  rP = mat_mul( P2 , P1 )\n",
    "  print \"ret: \", delta , rP\n",
    "  return delta, rP\n",
    "\n",
    "def jumpdivsteps_list(n,delta,f,g):\n",
    "  print \"jumpdivsteps_list(\",n,delta,f,g,\")\"\n",
    "  assert n>0\n",
    "  if n==1:\n",
    "    return divstep_list( delta , f , g )\n",
    "  # other cases of n\n",
    "  j = n//2\n",
    "  print \"j=\",j\n",
    "  delta,P1 = jumpdivstep_mat(j,delta,f,g)\n",
    "  print \"P1:\\n\" , P1 \n",
    "  f,g = mat_mul_vec( P1 , (f,g) )\n",
    "  print \"P1x(f,g): f=\" , f , \"  g=\", g\n",
    "  delta,P2 = jumpdivstep_mat(n-j,delta,f,g)\n",
    "  print \"P2:\\n\" , P2\n",
    "  f,g = mat_mul_vec( P2 , (f,g) )\n",
    "  print \"P2x(f,g): f=\" , f , \"  g=\", g\n",
    "  #f,g = kx(f).truncate(t-n+1),kx(g).truncate(t-n)\n",
    "  print \"truncated ???: f=\",f , \"  g=\", g\n",
    "  rP = mat_mul( P2 , P1 )\n",
    "  return delta, f , g , rP\n",
    "\n",
    "\n",
    "# demo code:\n",
    "f = poly_rev( a2 , 2 )\n",
    "g = poly_rev( b2 , 2 )\n",
    "jumpdivsteps_list( 5 , 0 , f , g )\n"
   ]
  },
  {
   "cell_type": "code",
   "execution_count": 85,
   "metadata": {
    "collapsed": false
   },
   "outputs": [
    {
     "name": "stdout",
     "output_type": "stream",
     "text": [
      "jumpdivsteps_list( 3 1 [483, 3300, 276] [602, 2491, 0] )\n",
      "j= 1\n",
      "jumpdivstep_mat( 1 1 [483, 3300, 276] [602, 2491, 0] )\n",
      "truncated( 1 ): f= [483]   g= [602]\n",
      "P1:\n",
      "[[[0], [1]], [[602], [4108]]]\n",
      "P1x(f,g): f= [602, 2491, 0]   g= [2977, 876, 0]\n",
      "jumpdivstep_mat( 2 0 [602, 2491, 0] [2977, 876, 0] )\n",
      "truncated( 2 ): f= [602, 2491]   g= [2977, 876]\n",
      "j= 1\n",
      "jumpdivstep_mat( 1 0 [602, 2491] [2977, 876] )\n",
      "truncated( 1 ): f= [602]   g= [2977]\n",
      "P1:\n",
      "[[[1], [0]], [[1614], [602]]]\n",
      "P1x(f,g): f= [602, 2491]   g= [2736, 0]\n",
      "jumpdivstep_mat( 1 1 [602, 2491] [2736, 0] )\n",
      "truncated( 1 ): f= [602]   g= [2736]\n",
      "P2:\n",
      "[[[0], [1]], [[2736], [3989]]]\n",
      "ret:  0 [[[1614, 0], [602, 0]], [[1664, 2736], [285, 0]]]\n",
      "P2:\n",
      "[[[1614, 0], [602, 0]], [[1664, 2736], [285, 0]]]\n",
      "P2x(f,g): f= [2736, 0, 0]   g= [2332, 0, 0]\n",
      "truncated ???: f= [2736, 0, 0]   g= [2332, 0, 0]\n"
     ]
    },
    {
     "data": {
      "text/plain": [
       "(0,\n",
       " [2736, 0, 0],\n",
       " [2332, 0, 0],\n",
       " [[[4306, 0, 0], [3058, 1614, 0]], [[1703, 0, 0], [75, 1664, 2736]]])"
      ]
     },
     "execution_count": 85,
     "metadata": {},
     "output_type": "execute_result"
    }
   ],
   "source": [
    "\n",
    "def jumpgcd_list(R0,R1):\n",
    "  d = R0.degree()\n",
    "  assert d>0 and d>R1.degree()\n",
    "  f = poly_rev(R0,d)\n",
    "  g = poly_rev(R1,R1.degree())\n",
    "  g = list_pad_zero(g,len(f))\n",
    "  delta,f,g,T = jumpdivsteps_list(2*d-1,1,f,g)\n",
    "  return delta,f,g,T\n",
    "\n",
    "jumpgcd_list( a2 , b1 )\n"
   ]
  },
  {
   "cell_type": "code",
   "execution_count": null,
   "metadata": {
    "collapsed": true
   },
   "outputs": [],
   "source": []
  }
 ],
 "metadata": {
  "kernelspec": {
   "display_name": "SageMath 7.5.1",
   "language": "",
   "name": "sagemath"
  },
  "language_info": {
   "codemirror_mode": {
    "name": "ipython",
    "version": 2
   },
   "file_extension": ".py",
   "mimetype": "text/x-python",
   "name": "python",
   "nbconvert_exporter": "python",
   "pygments_lexer": "ipython2",
   "version": "2.7.13"
  }
 },
 "nbformat": 4,
 "nbformat_minor": 0
}
